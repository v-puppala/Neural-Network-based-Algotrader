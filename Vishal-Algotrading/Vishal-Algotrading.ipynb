{
 "cells": [
  {
   "cell_type": "code",
   "execution_count": 22,
   "id": "2e2281d0-b8a4-4742-bf66-46a7c205b747",
   "metadata": {},
   "outputs": [],
   "source": [
    "from dotenv import load_dotenv\n",
    "import os\n",
    "import requests\n",
    "import alpaca_trade_api as tradeapi\n",
    "import pandas as pd"
   ]
  },
  {
   "cell_type": "code",
   "execution_count": 23,
   "id": "bf125e75-1e85-4e0f-819c-263c17d4ad8c",
   "metadata": {},
   "outputs": [
    {
     "data": {
      "text/plain": [
       "True"
      ]
     },
     "execution_count": 23,
     "metadata": {},
     "output_type": "execute_result"
    }
   ],
   "source": [
    "load_dotenv('api.env')"
   ]
  },
  {
   "cell_type": "code",
   "execution_count": 24,
   "id": "03ab24f2-8df8-4d74-aa45-a17a82be1cc7",
   "metadata": {},
   "outputs": [],
   "source": [
    "alpaca_api_key = os.getenv(\"ALPACA_API_KEY\")\n",
    "alpaca_secret_key = os.getenv(\"ALPACA_SECRET_KEY\")"
   ]
  },
  {
   "cell_type": "code",
   "execution_count": 25,
   "id": "0949db5d-f839-4596-902c-489783d6f3ed",
   "metadata": {},
   "outputs": [
    {
     "name": "stdout",
     "output_type": "stream",
     "text": [
      "Alpaca Key type: <class 'str'>\n",
      "Alpaca Secret Key type: <class 'str'>\n"
     ]
    }
   ],
   "source": [
    "print(f\"Alpaca Key type: {type(alpaca_api_key)}\")\n",
    "print(f\"Alpaca Secret Key type: {type(alpaca_secret_key)}\")"
   ]
  },
  {
   "cell_type": "code",
   "execution_count": 26,
   "id": "d4e1e2eb-fab3-46f5-9997-db79ef24a675",
   "metadata": {},
   "outputs": [],
   "source": [
    "alpaca = tradeapi.REST(\n",
    "    alpaca_api_key,alpaca_secret_key,\n",
    "    api_version=\"v2\")"
   ]
  },
  {
   "cell_type": "code",
   "execution_count": 27,
   "id": "1a44b86e-45f2-4cb8-8670-66321476e68c",
   "metadata": {},
   "outputs": [],
   "source": [
    "symbol='SPY'\n",
    "timeframe = '1H'\n",
    "start_date = pd.Timestamp(\"2013-01-01\", tz=\"America/New_York\").isoformat()"
   ]
  },
  {
   "cell_type": "code",
   "execution_count": 28,
   "id": "9201cd16-c2e9-4051-a424-ec10b0a717fd",
   "metadata": {},
   "outputs": [],
   "source": [
    "historical_data = alpaca.get_bars(symbol, timeframe, start=start_date).df\n"
   ]
  },
  {
   "cell_type": "code",
   "execution_count": 29,
   "id": "45b7d8bf-a4fb-4045-b2df-1ba105c14173",
   "metadata": {},
   "outputs": [
    {
     "data": {
      "text/html": [
       "<div>\n",
       "<style scoped>\n",
       "    .dataframe tbody tr th:only-of-type {\n",
       "        vertical-align: middle;\n",
       "    }\n",
       "\n",
       "    .dataframe tbody tr th {\n",
       "        vertical-align: top;\n",
       "    }\n",
       "\n",
       "    .dataframe thead th {\n",
       "        text-align: right;\n",
       "    }\n",
       "</style>\n",
       "<table border=\"1\" class=\"dataframe\">\n",
       "  <thead>\n",
       "    <tr style=\"text-align: right;\">\n",
       "      <th></th>\n",
       "      <th>open</th>\n",
       "      <th>high</th>\n",
       "      <th>low</th>\n",
       "      <th>close</th>\n",
       "      <th>volume</th>\n",
       "      <th>trade_count</th>\n",
       "      <th>vwap</th>\n",
       "    </tr>\n",
       "    <tr>\n",
       "      <th>timestamp</th>\n",
       "      <th></th>\n",
       "      <th></th>\n",
       "      <th></th>\n",
       "      <th></th>\n",
       "      <th></th>\n",
       "      <th></th>\n",
       "      <th></th>\n",
       "    </tr>\n",
       "  </thead>\n",
       "  <tbody>\n",
       "    <tr>\n",
       "      <th>2015-12-01 09:00:00+00:00</th>\n",
       "      <td>209.43</td>\n",
       "      <td>209.440</td>\n",
       "      <td>209.2400</td>\n",
       "      <td>209.300</td>\n",
       "      <td>30375</td>\n",
       "      <td>82</td>\n",
       "      <td>209.322606</td>\n",
       "    </tr>\n",
       "    <tr>\n",
       "      <th>2015-12-01 10:00:00+00:00</th>\n",
       "      <td>209.30</td>\n",
       "      <td>209.360</td>\n",
       "      <td>209.0700</td>\n",
       "      <td>209.360</td>\n",
       "      <td>54490</td>\n",
       "      <td>118</td>\n",
       "      <td>209.214253</td>\n",
       "    </tr>\n",
       "    <tr>\n",
       "      <th>2015-12-01 11:00:00+00:00</th>\n",
       "      <td>209.37</td>\n",
       "      <td>209.650</td>\n",
       "      <td>209.3700</td>\n",
       "      <td>209.440</td>\n",
       "      <td>44404</td>\n",
       "      <td>109</td>\n",
       "      <td>209.526441</td>\n",
       "    </tr>\n",
       "    <tr>\n",
       "      <th>2015-12-01 12:00:00+00:00</th>\n",
       "      <td>209.45</td>\n",
       "      <td>209.590</td>\n",
       "      <td>209.3300</td>\n",
       "      <td>209.510</td>\n",
       "      <td>111106</td>\n",
       "      <td>234</td>\n",
       "      <td>209.460429</td>\n",
       "    </tr>\n",
       "    <tr>\n",
       "      <th>2015-12-01 13:00:00+00:00</th>\n",
       "      <td>209.52</td>\n",
       "      <td>209.670</td>\n",
       "      <td>209.2700</td>\n",
       "      <td>209.320</td>\n",
       "      <td>426233</td>\n",
       "      <td>645</td>\n",
       "      <td>209.429479</td>\n",
       "    </tr>\n",
       "    <tr>\n",
       "      <th>...</th>\n",
       "      <td>...</td>\n",
       "      <td>...</td>\n",
       "      <td>...</td>\n",
       "      <td>...</td>\n",
       "      <td>...</td>\n",
       "      <td>...</td>\n",
       "      <td>...</td>\n",
       "    </tr>\n",
       "    <tr>\n",
       "      <th>2023-03-21 16:00:00+00:00</th>\n",
       "      <td>395.90</td>\n",
       "      <td>396.880</td>\n",
       "      <td>395.6600</td>\n",
       "      <td>396.410</td>\n",
       "      <td>8021999</td>\n",
       "      <td>57932</td>\n",
       "      <td>395.651885</td>\n",
       "    </tr>\n",
       "    <tr>\n",
       "      <th>2023-03-21 17:00:00+00:00</th>\n",
       "      <td>396.42</td>\n",
       "      <td>397.419</td>\n",
       "      <td>396.1500</td>\n",
       "      <td>396.275</td>\n",
       "      <td>7401692</td>\n",
       "      <td>57939</td>\n",
       "      <td>396.155466</td>\n",
       "    </tr>\n",
       "    <tr>\n",
       "      <th>2023-03-21 18:00:00+00:00</th>\n",
       "      <td>396.27</td>\n",
       "      <td>397.930</td>\n",
       "      <td>396.2400</td>\n",
       "      <td>397.660</td>\n",
       "      <td>7540870</td>\n",
       "      <td>59853</td>\n",
       "      <td>396.628225</td>\n",
       "    </tr>\n",
       "    <tr>\n",
       "      <th>2023-03-21 19:00:00+00:00</th>\n",
       "      <td>397.65</td>\n",
       "      <td>399.410</td>\n",
       "      <td>397.6000</td>\n",
       "      <td>398.870</td>\n",
       "      <td>24108620</td>\n",
       "      <td>154942</td>\n",
       "      <td>397.963855</td>\n",
       "    </tr>\n",
       "    <tr>\n",
       "      <th>2023-03-21 20:00:00+00:00</th>\n",
       "      <td>398.88</td>\n",
       "      <td>399.030</td>\n",
       "      <td>397.4136</td>\n",
       "      <td>398.900</td>\n",
       "      <td>5905088</td>\n",
       "      <td>3356</td>\n",
       "      <td>397.933142</td>\n",
       "    </tr>\n",
       "  </tbody>\n",
       "</table>\n",
       "<p>30441 rows × 7 columns</p>\n",
       "</div>"
      ],
      "text/plain": [
       "                             open     high       low    close    volume  \\\n",
       "timestamp                                                                 \n",
       "2015-12-01 09:00:00+00:00  209.43  209.440  209.2400  209.300     30375   \n",
       "2015-12-01 10:00:00+00:00  209.30  209.360  209.0700  209.360     54490   \n",
       "2015-12-01 11:00:00+00:00  209.37  209.650  209.3700  209.440     44404   \n",
       "2015-12-01 12:00:00+00:00  209.45  209.590  209.3300  209.510    111106   \n",
       "2015-12-01 13:00:00+00:00  209.52  209.670  209.2700  209.320    426233   \n",
       "...                           ...      ...       ...      ...       ...   \n",
       "2023-03-21 16:00:00+00:00  395.90  396.880  395.6600  396.410   8021999   \n",
       "2023-03-21 17:00:00+00:00  396.42  397.419  396.1500  396.275   7401692   \n",
       "2023-03-21 18:00:00+00:00  396.27  397.930  396.2400  397.660   7540870   \n",
       "2023-03-21 19:00:00+00:00  397.65  399.410  397.6000  398.870  24108620   \n",
       "2023-03-21 20:00:00+00:00  398.88  399.030  397.4136  398.900   5905088   \n",
       "\n",
       "                           trade_count        vwap  \n",
       "timestamp                                           \n",
       "2015-12-01 09:00:00+00:00           82  209.322606  \n",
       "2015-12-01 10:00:00+00:00          118  209.214253  \n",
       "2015-12-01 11:00:00+00:00          109  209.526441  \n",
       "2015-12-01 12:00:00+00:00          234  209.460429  \n",
       "2015-12-01 13:00:00+00:00          645  209.429479  \n",
       "...                                ...         ...  \n",
       "2023-03-21 16:00:00+00:00        57932  395.651885  \n",
       "2023-03-21 17:00:00+00:00        57939  396.155466  \n",
       "2023-03-21 18:00:00+00:00        59853  396.628225  \n",
       "2023-03-21 19:00:00+00:00       154942  397.963855  \n",
       "2023-03-21 20:00:00+00:00         3356  397.933142  \n",
       "\n",
       "[30441 rows x 7 columns]"
      ]
     },
     "execution_count": 29,
     "metadata": {},
     "output_type": "execute_result"
    }
   ],
   "source": [
    "historical_data"
   ]
  },
  {
   "cell_type": "code",
   "execution_count": null,
   "id": "3b580ce5-bf94-4675-b6cd-870a246fdeaa",
   "metadata": {},
   "outputs": [],
   "source": []
  }
 ],
 "metadata": {
  "kernelspec": {
   "display_name": "My Python Environment",
   "language": "python",
   "name": "dev"
  },
  "language_info": {
   "codemirror_mode": {
    "name": "ipython",
    "version": 3
   },
   "file_extension": ".py",
   "mimetype": "text/x-python",
   "name": "python",
   "nbconvert_exporter": "python",
   "pygments_lexer": "ipython3",
   "version": "3.8.3"
  }
 },
 "nbformat": 4,
 "nbformat_minor": 5
}
